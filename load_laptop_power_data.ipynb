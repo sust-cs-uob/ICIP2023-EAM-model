{
 "cells": [
  {
   "cell_type": "code",
   "execution_count": 1,
   "outputs": [],
   "source": [
    "data_path = '/Users/csxds/Library/CloudStorage/OneDrive-UniversityofBristol/Research/2022 CarbonQuanDRI/Data/STFC/'"
   ],
   "metadata": {
    "collapsed": false
   }
  },
  {
   "cell_type": "code",
   "execution_count": 2,
   "outputs": [],
   "source": [
    "file = f'{data_path}/R89 power.xlsx'"
   ],
   "metadata": {
    "collapsed": false
   }
  },
  {
   "cell_type": "code",
   "execution_count": 3,
   "outputs": [],
   "source": [
    "import pandas as pd"
   ],
   "metadata": {
    "collapsed": false
   }
  },
  {
   "cell_type": "code",
   "execution_count": 4,
   "outputs": [],
   "source": [
    "df = pd.read_excel(file, sheet_name='raw data', names=['mth','power'])"
   ],
   "metadata": {
    "collapsed": false
   }
  },
  {
   "cell_type": "code",
   "execution_count": 5,
   "outputs": [
    {
     "data": {
      "text/plain": "        mth        power\n0  0.682295  1059.545349",
      "text/html": "<div>\n<style scoped>\n    .dataframe tbody tr th:only-of-type {\n        vertical-align: middle;\n    }\n\n    .dataframe tbody tr th {\n        vertical-align: top;\n    }\n\n    .dataframe thead th {\n        text-align: right;\n    }\n</style>\n<table border=\"1\" class=\"dataframe\">\n  <thead>\n    <tr style=\"text-align: right;\">\n      <th></th>\n      <th>mth</th>\n      <th>power</th>\n    </tr>\n  </thead>\n  <tbody>\n    <tr>\n      <th>0</th>\n      <td>0.682295</td>\n      <td>1059.545349</td>\n    </tr>\n  </tbody>\n</table>\n</div>"
     },
     "execution_count": 5,
     "metadata": {},
     "output_type": "execute_result"
    }
   ],
   "source": [
    "df.head(1)"
   ],
   "metadata": {
    "collapsed": false
   }
  },
  {
   "cell_type": "code",
   "execution_count": 6,
   "outputs": [],
   "source": [
    "import datetime\n",
    "from dateutil.relativedelta import relativedelta\n",
    "from pandas.tseries.offsets import MonthEnd\n",
    "def date_for_frac(frac, start='1/11/2020'):\n",
    "    sd = datetime.datetime.strptime('1/11/2020','%d/%m/%Y').date()\n",
    "    month_delta = int(frac)\n",
    "    # find the next month\n",
    "    next_month = sd + relativedelta(months=month_delta)\n",
    "\n",
    "    # time in month\n",
    "    time_in_month = (next_month + MonthEnd(1)) - (next_month - MonthEnd(1))\n",
    "    within_month_part = frac - int(frac)\n",
    "    date = time_in_month * within_month_part\n",
    "\n",
    "    return date + next_month"
   ],
   "metadata": {
    "collapsed": false
   }
  },
  {
   "cell_type": "code",
   "execution_count": 7,
   "outputs": [
    {
     "data": {
      "text/plain": "datetime.date(2020, 11, 10)"
     },
     "execution_count": 7,
     "metadata": {},
     "output_type": "execute_result"
    }
   ],
   "source": [
    "date_for_frac(0.3)"
   ],
   "metadata": {
    "collapsed": false
   }
  },
  {
   "cell_type": "code",
   "execution_count": 8,
   "outputs": [],
   "source": [
    "df['date'] = df['mth'].apply(date_for_frac)"
   ],
   "metadata": {
    "collapsed": false
   }
  },
  {
   "cell_type": "code",
   "execution_count": 9,
   "outputs": [],
   "source": [
    "df['datetime'] = pd.to_datetime(df['date'])"
   ],
   "metadata": {
    "collapsed": false
   }
  },
  {
   "cell_type": "code",
   "execution_count": 10,
   "outputs": [
    {
     "data": {
      "text/plain": "0     2020-11-21\n1     2020-11-25\n2     2020-11-30\n3     2020-12-10\n4     2020-12-12\n         ...    \n135   2022-10-26\n136   2022-11-03\n137   2022-11-07\n138   2022-11-07\n139   2022-11-15\nName: datetime, Length: 140, dtype: datetime64[ns]"
     },
     "execution_count": 10,
     "metadata": {},
     "output_type": "execute_result"
    }
   ],
   "source": [
    "df['datetime']"
   ],
   "metadata": {
    "collapsed": false
   }
  },
  {
   "cell_type": "code",
   "execution_count": 11,
   "outputs": [
    {
     "data": {
      "text/plain": "Text(0.5, 0, '')"
     },
     "execution_count": 11,
     "metadata": {},
     "output_type": "execute_result"
    },
    {
     "data": {
      "text/plain": "<Figure size 432x288 with 1 Axes>",
      "image/png": "[encoded data removed]"
     },
     "metadata": {
      "needs_background": "light"
     },
     "output_type": "display_data"
    }
   ],
   "source": [
    "ax = df.plot(x=\"datetime\", y=\"power\", legend=False)\n",
    "ax.set_ylim(0,1500)\n",
    "ax.set_ylabel(\"Power [kW]\")\n",
    "ax.set_xlabel(\"\")"
   ],
   "metadata": {
    "collapsed": false
   }
  },
  {
   "cell_type": "code",
   "execution_count": 13,
   "outputs": [
    {
     "data": {
      "text/plain": "count     140.000000\nmean     1160.173710\nstd        85.824908\nmin       983.824705\n25%      1116.689745\n50%      1182.415830\n75%      1217.771202\nmax      1321.685809\nName: power, dtype: float64"
     },
     "execution_count": 13,
     "metadata": {},
     "output_type": "execute_result"
    }
   ],
   "source": [
    "df['power'].describe()"
   ],
   "metadata": {
    "collapsed": false
   }
  },
  {
   "cell_type": "code",
   "execution_count": 39,
   "outputs": [],
   "source": [
    "fig = ax.get_figure()\n",
    "fig.savefig('energy_R89.pdf')"
   ],
   "metadata": {
    "collapsed": false
   }
  },
  {
   "cell_type": "code",
   "execution_count": 15,
   "outputs": [],
   "source": [
    "df_PUE = pd.read_excel(file, sheet_name='raw PUE', names=['mth','PUE'])"
   ],
   "metadata": {
    "collapsed": false
   }
  },
  {
   "cell_type": "code",
   "execution_count": 16,
   "outputs": [],
   "source": [
    "df_PUE['date'] = df_PUE['mth'].apply(date_for_frac)\n",
    "df_PUE['datetime'] = pd.to_datetime(df_PUE['date'])"
   ],
   "metadata": {
    "collapsed": false
   }
  },
  {
   "cell_type": "code",
   "execution_count": 46,
   "outputs": [
    {
     "data": {
      "text/plain": "Text(0.5, 0, '')"
     },
     "execution_count": 46,
     "metadata": {},
     "output_type": "execute_result"
    },
    {
     "data": {
      "text/plain": "<Figure size 432x288 with 1 Axes>",
      "image/png": "[encoded data removed]"
     },
     "metadata": {
      "needs_background": "light"
     },
     "output_type": "display_data"
    }
   ],
   "source": [
    "ax = df_PUE.plot(x=\"datetime\", y=\"PUE\", legend=False)\n",
    "ax.set_ylim(0,1.8)\n",
    "ax.set_ylabel(\"PUE\")\n",
    "ax.set_xlabel(\"\")"
   ],
   "metadata": {
    "collapsed": false
   }
  },
  {
   "cell_type": "code",
   "execution_count": 47,
   "outputs": [],
   "source": [
    "fig = ax.get_figure()\n",
    "fig.savefig('PUE_R89.pdf')"
   ],
   "metadata": {
    "collapsed": false
   }
  },
  {
   "cell_type": "code",
   "execution_count": 17,
   "outputs": [
    {
     "data": {
      "text/plain": "count    134.000000\nmean       1.324427\nstd        0.059586\nmin        1.200780\n25%        1.292170\n50%        1.320258\n75%        1.358117\nmax        1.474943\nName: PUE, dtype: float64"
     },
     "execution_count": 17,
     "metadata": {},
     "output_type": "execute_result"
    }
   ],
   "source": [
    "df_PUE['PUE'].describe()"
   ],
   "metadata": {
    "collapsed": false
   }
  },
  {
   "cell_type": "markdown",
   "source": [
    "# Join both"
   ],
   "metadata": {
    "collapsed": false
   }
  },
  {
   "cell_type": "code",
   "execution_count": 105,
   "outputs": [],
   "source": [
    "df_power = df.set_index('datetime')"
   ],
   "metadata": {
    "collapsed": false
   }
  },
  {
   "cell_type": "code",
   "execution_count": 106,
   "outputs": [],
   "source": [
    "df_power = df_power[~df_power.index.duplicated(keep='first')]['power']"
   ],
   "metadata": {
    "collapsed": false
   }
  },
  {
   "cell_type": "code",
   "execution_count": 107,
   "outputs": [
    {
     "data": {
      "text/plain": "2020-12-01    1029.457602\n2021-01-01    1023.111127\n2021-02-01    1048.807836\n2021-03-01    1033.077094\n2021-04-01    1012.904966\n2021-05-01    1068.800831\n2021-06-01    1240.157005\n2021-07-01    1129.449179\n2021-08-01    1216.077305\n2021-09-01    1194.767275\n2021-10-01    1171.310560\n2021-11-01    1190.476535\n2021-12-01    1163.243867\n2022-01-01    1160.770475\n2022-02-01    1151.050581\n2022-03-01    1212.578526\n2022-04-01    1239.088553\n2022-05-01    1236.259500\n2022-06-01    1261.777081\n2022-07-01    1254.381504\n2022-08-01    1183.771799\n2022-09-01    1211.460981\n2022-10-01    1217.529698\n2022-11-01    1205.208974\nFreq: MS, Name: power, dtype: float64"
     },
     "execution_count": 107,
     "metadata": {},
     "output_type": "execute_result"
    }
   ],
   "source": [
    "df_power.resample('D').interpolate().reindex(pd.date_range('2020-11-21', '2022-11-01', freq='MS'))"
   ],
   "metadata": {
    "collapsed": false
   }
  },
  {
   "cell_type": "code",
   "execution_count": 119,
   "outputs": [
    {
     "ename": "KeyError",
     "evalue": "'PUE'",
     "output_type": "error",
     "traceback": [
      "\u001B[0;31m---------------------------------------------------------------------------\u001B[0m",
      "\u001B[0;31mValueError\u001B[0m                                Traceback (most recent call last)",
      "File \u001B[0;32mpandas/_libs/tslibs/parsing.pyx:362\u001B[0m, in \u001B[0;36mpandas._libs.tslibs.parsing.parse_datetime_string_with_reso\u001B[0;34m()\u001B[0m\n",
      "File \u001B[0;32mpandas/_libs/tslibs/parsing.pyx:570\u001B[0m, in \u001B[0;36mpandas._libs.tslibs.parsing.dateutil_parse\u001B[0;34m()\u001B[0m\n",
      "\u001B[0;31mValueError\u001B[0m: Unknown datetime string format, unable to parse: PUE",
      "\nDuring handling of the above exception, another exception occurred:\n",
      "\u001B[0;31mDateParseError\u001B[0m                            Traceback (most recent call last)",
      "File \u001B[0;32m~/workspaces/venv/sandbox/lib/python3.10/site-packages/pandas/core/indexes/datetimes.py:644\u001B[0m, in \u001B[0;36mDatetimeIndex.get_loc\u001B[0;34m(self, key, method, tolerance)\u001B[0m\n\u001B[1;32m    643\u001B[0m \u001B[38;5;28;01mtry\u001B[39;00m:\n\u001B[0;32m--> 644\u001B[0m     parsed, reso \u001B[38;5;241m=\u001B[39m \u001B[38;5;28;43mself\u001B[39;49m\u001B[38;5;241;43m.\u001B[39;49m\u001B[43m_parse_with_reso\u001B[49m\u001B[43m(\u001B[49m\u001B[43mkey\u001B[49m\u001B[43m)\u001B[49m\n\u001B[1;32m    645\u001B[0m \u001B[38;5;28;01mexcept\u001B[39;00m \u001B[38;5;167;01mValueError\u001B[39;00m \u001B[38;5;28;01mas\u001B[39;00m err:\n",
      "File \u001B[0;32m~/workspaces/venv/sandbox/lib/python3.10/site-packages/pandas/core/indexes/datetimelike.py:231\u001B[0m, in \u001B[0;36mDatetimeIndexOpsMixin._parse_with_reso\u001B[0;34m(self, label)\u001B[0m\n\u001B[1;32m    229\u001B[0m \u001B[38;5;28;01mdef\u001B[39;00m \u001B[38;5;21m_parse_with_reso\u001B[39m(\u001B[38;5;28mself\u001B[39m, label: \u001B[38;5;28mstr\u001B[39m):\n\u001B[1;32m    230\u001B[0m     \u001B[38;5;66;03m# overridden by TimedeltaIndex\u001B[39;00m\n\u001B[0;32m--> 231\u001B[0m     parsed, reso_str \u001B[38;5;241m=\u001B[39m \u001B[43mparsing\u001B[49m\u001B[38;5;241;43m.\u001B[39;49m\u001B[43mparse_time_string\u001B[49m\u001B[43m(\u001B[49m\u001B[43mlabel\u001B[49m\u001B[43m,\u001B[49m\u001B[43m \u001B[49m\u001B[38;5;28;43mself\u001B[39;49m\u001B[38;5;241;43m.\u001B[39;49m\u001B[43mfreq\u001B[49m\u001B[43m)\u001B[49m\n\u001B[1;32m    232\u001B[0m     reso \u001B[38;5;241m=\u001B[39m Resolution\u001B[38;5;241m.\u001B[39mfrom_attrname(reso_str)\n",
      "File \u001B[0;32mpandas/_libs/tslibs/parsing.pyx:321\u001B[0m, in \u001B[0;36mpandas._libs.tslibs.parsing.parse_time_string\u001B[0;34m()\u001B[0m\n",
      "File \u001B[0;32mpandas/_libs/tslibs/parsing.pyx:367\u001B[0m, in \u001B[0;36mpandas._libs.tslibs.parsing.parse_datetime_string_with_reso\u001B[0;34m()\u001B[0m\n",
      "\u001B[0;31mDateParseError\u001B[0m: Unknown datetime string format, unable to parse: PUE",
      "\nThe above exception was the direct cause of the following exception:\n",
      "\u001B[0;31mKeyError\u001B[0m                                  Traceback (most recent call last)",
      "Input \u001B[0;32mIn [119]\u001B[0m, in \u001B[0;36m<cell line: 1>\u001B[0;34m()\u001B[0m\n\u001B[0;32m----> 1\u001B[0m df_PUE \u001B[38;5;241m=\u001B[39m \u001B[43mdf_PUE\u001B[49m\u001B[43m[\u001B[49m\u001B[38;5;241;43m~\u001B[39;49m\u001B[43mdf_PUE\u001B[49m\u001B[38;5;241;43m.\u001B[39;49m\u001B[43mindex\u001B[49m\u001B[38;5;241;43m.\u001B[39;49m\u001B[43mduplicated\u001B[49m\u001B[43m(\u001B[49m\u001B[43mkeep\u001B[49m\u001B[38;5;241;43m=\u001B[39;49m\u001B[38;5;124;43m'\u001B[39;49m\u001B[38;5;124;43mfirst\u001B[39;49m\u001B[38;5;124;43m'\u001B[39;49m\u001B[43m)\u001B[49m\u001B[43m]\u001B[49m\u001B[43m[\u001B[49m\u001B[38;5;124;43m'\u001B[39;49m\u001B[38;5;124;43mPUE\u001B[39;49m\u001B[38;5;124;43m'\u001B[39;49m\u001B[43m]\u001B[49m\n\u001B[1;32m      2\u001B[0m df_PUE\u001B[38;5;241m.\u001B[39mresample(\u001B[38;5;124m'\u001B[39m\u001B[38;5;124mD\u001B[39m\u001B[38;5;124m'\u001B[39m)\u001B[38;5;241m.\u001B[39minterpolate()\u001B[38;5;241m.\u001B[39mreindex(pd\u001B[38;5;241m.\u001B[39mdate_range(\u001B[38;5;124m'\u001B[39m\u001B[38;5;124m2020-11-21\u001B[39m\u001B[38;5;124m'\u001B[39m, \u001B[38;5;124m'\u001B[39m\u001B[38;5;124m2022-11-01\u001B[39m\u001B[38;5;124m'\u001B[39m, freq\u001B[38;5;241m=\u001B[39m\u001B[38;5;124m'\u001B[39m\u001B[38;5;124mMS\u001B[39m\u001B[38;5;124m'\u001B[39m))\n",
      "File \u001B[0;32m~/workspaces/venv/sandbox/lib/python3.10/site-packages/pandas/core/series.py:958\u001B[0m, in \u001B[0;36mSeries.__getitem__\u001B[0;34m(self, key)\u001B[0m\n\u001B[1;32m    955\u001B[0m     \u001B[38;5;28;01mreturn\u001B[39;00m \u001B[38;5;28mself\u001B[39m\u001B[38;5;241m.\u001B[39m_values[key]\n\u001B[1;32m    957\u001B[0m \u001B[38;5;28;01melif\u001B[39;00m key_is_scalar:\n\u001B[0;32m--> 958\u001B[0m     \u001B[38;5;28;01mreturn\u001B[39;00m \u001B[38;5;28;43mself\u001B[39;49m\u001B[38;5;241;43m.\u001B[39;49m\u001B[43m_get_value\u001B[49m\u001B[43m(\u001B[49m\u001B[43mkey\u001B[49m\u001B[43m)\u001B[49m\n\u001B[1;32m    960\u001B[0m \u001B[38;5;28;01mif\u001B[39;00m is_hashable(key):\n\u001B[1;32m    961\u001B[0m     \u001B[38;5;66;03m# Otherwise index.get_value will raise InvalidIndexError\u001B[39;00m\n\u001B[1;32m    962\u001B[0m     \u001B[38;5;28;01mtry\u001B[39;00m:\n\u001B[1;32m    963\u001B[0m         \u001B[38;5;66;03m# For labels that don't resolve as scalars like tuples and frozensets\u001B[39;00m\n",
      "File \u001B[0;32m~/workspaces/venv/sandbox/lib/python3.10/site-packages/pandas/core/series.py:1069\u001B[0m, in \u001B[0;36mSeries._get_value\u001B[0;34m(self, label, takeable)\u001B[0m\n\u001B[1;32m   1066\u001B[0m     \u001B[38;5;28;01mreturn\u001B[39;00m \u001B[38;5;28mself\u001B[39m\u001B[38;5;241m.\u001B[39m_values[label]\n\u001B[1;32m   1068\u001B[0m \u001B[38;5;66;03m# Similar to Index.get_value, but we do not fall back to positional\u001B[39;00m\n\u001B[0;32m-> 1069\u001B[0m loc \u001B[38;5;241m=\u001B[39m \u001B[38;5;28;43mself\u001B[39;49m\u001B[38;5;241;43m.\u001B[39;49m\u001B[43mindex\u001B[49m\u001B[38;5;241;43m.\u001B[39;49m\u001B[43mget_loc\u001B[49m\u001B[43m(\u001B[49m\u001B[43mlabel\u001B[49m\u001B[43m)\u001B[49m\n\u001B[1;32m   1070\u001B[0m \u001B[38;5;28;01mreturn\u001B[39;00m \u001B[38;5;28mself\u001B[39m\u001B[38;5;241m.\u001B[39mindex\u001B[38;5;241m.\u001B[39m_get_values_for_loc(\u001B[38;5;28mself\u001B[39m, loc, label)\n",
      "File \u001B[0;32m~/workspaces/venv/sandbox/lib/python3.10/site-packages/pandas/core/indexes/datetimes.py:646\u001B[0m, in \u001B[0;36mDatetimeIndex.get_loc\u001B[0;34m(self, key, method, tolerance)\u001B[0m\n\u001B[1;32m    644\u001B[0m     parsed, reso \u001B[38;5;241m=\u001B[39m \u001B[38;5;28mself\u001B[39m\u001B[38;5;241m.\u001B[39m_parse_with_reso(key)\n\u001B[1;32m    645\u001B[0m \u001B[38;5;28;01mexcept\u001B[39;00m \u001B[38;5;167;01mValueError\u001B[39;00m \u001B[38;5;28;01mas\u001B[39;00m err:\n\u001B[0;32m--> 646\u001B[0m     \u001B[38;5;28;01mraise\u001B[39;00m \u001B[38;5;167;01mKeyError\u001B[39;00m(key) \u001B[38;5;28;01mfrom\u001B[39;00m \u001B[38;5;21;01merr\u001B[39;00m\n\u001B[1;32m    648\u001B[0m \u001B[38;5;28;01mif\u001B[39;00m \u001B[38;5;28mself\u001B[39m\u001B[38;5;241m.\u001B[39m_can_partial_date_slice(reso):\n\u001B[1;32m    649\u001B[0m     \u001B[38;5;28;01mtry\u001B[39;00m:\n",
      "\u001B[0;31mKeyError\u001B[0m: 'PUE'"
     ]
    }
   ],
   "source": [
    "df_PUE = df_PUE[~df_PUE.index.duplicated(keep='first')]['PUE']\n",
    "df_PUE.resample('D').interpolate().reindex(pd.date_range('2020-11-21', '2022-11-01', freq='MS'))"
   ],
   "metadata": {
    "collapsed": false
   }
  },
  {
   "cell_type": "code",
   "execution_count": 118,
   "outputs": [],
   "source": [
    "df = pd.concat([df_PUE, df_power], axis=1).interpolate()"
   ],
   "metadata": {
    "collapsed": false
   }
  },
  {
   "cell_type": "code",
   "execution_count": 120,
   "outputs": [
    {
     "data": {
      "text/plain": "                 PUE        power\ndatetime                         \n2020-11-21       NaN  1059.545349\n2020-11-25       NaN  1008.834983\n2020-11-26  1.268622  1015.717260\n2020-11-29  1.207978  1022.599537\n2020-11-30  1.234640  1029.481814\n...              ...          ...\n2022-11-05  1.315285  1229.994217\n2022-11-07  1.297357  1248.214143\n2022-11-10  1.279429  1235.909203\n2022-11-15  1.321995  1223.604262\n2022-11-20  1.304587  1223.604262\n\n[235 rows x 2 columns]",
      "text/html": "<div>\n<style scoped>\n    .dataframe tbody tr th:only-of-type {\n        vertical-align: middle;\n    }\n\n    .dataframe tbody tr th {\n        vertical-align: top;\n    }\n\n    .dataframe thead th {\n        text-align: right;\n    }\n</style>\n<table border=\"1\" class=\"dataframe\">\n  <thead>\n    <tr style=\"text-align: right;\">\n      <th></th>\n      <th>PUE</th>\n      <th>power</th>\n    </tr>\n    <tr>\n      <th>datetime</th>\n      <th></th>\n      <th></th>\n    </tr>\n  </thead>\n  <tbody>\n    <tr>\n      <th>2020-11-21</th>\n      <td>NaN</td>\n      <td>1059.545349</td>\n    </tr>\n    <tr>\n      <th>2020-11-25</th>\n      <td>NaN</td>\n      <td>1008.834983</td>\n    </tr>\n    <tr>\n      <th>2020-11-26</th>\n      <td>1.268622</td>\n      <td>1015.717260</td>\n    </tr>\n    <tr>\n      <th>2020-11-29</th>\n      <td>1.207978</td>\n      <td>1022.599537</td>\n    </tr>\n    <tr>\n      <th>2020-11-30</th>\n      <td>1.234640</td>\n      <td>1029.481814</td>\n    </tr>\n    <tr>\n      <th>...</th>\n      <td>...</td>\n      <td>...</td>\n    </tr>\n    <tr>\n      <th>2022-11-05</th>\n      <td>1.315285</td>\n      <td>1229.994217</td>\n    </tr>\n    <tr>\n      <th>2022-11-07</th>\n      <td>1.297357</td>\n      <td>1248.214143</td>\n    </tr>\n    <tr>\n      <th>2022-11-10</th>\n      <td>1.279429</td>\n      <td>1235.909203</td>\n    </tr>\n    <tr>\n      <th>2022-11-15</th>\n      <td>1.321995</td>\n      <td>1223.604262</td>\n    </tr>\n    <tr>\n      <th>2022-11-20</th>\n      <td>1.304587</td>\n      <td>1223.604262</td>\n    </tr>\n  </tbody>\n</table>\n<p>235 rows × 2 columns</p>\n</div>"
     },
     "execution_count": 120,
     "metadata": {},
     "output_type": "execute_result"
    }
   ],
   "source": [
    "df"
   ],
   "metadata": {
    "collapsed": false
   }
  },
  {
   "cell_type": "code",
   "execution_count": 121,
   "outputs": [],
   "source": [
    "df['tot_power'] = df['PUE'] * df['power']"
   ],
   "metadata": {
    "collapsed": false
   }
  },
  {
   "cell_type": "code",
   "execution_count": 141,
   "outputs": [],
   "source": [
    "df.to_csv('R89.csv')"
   ],
   "metadata": {
    "collapsed": false
   }
  },
  {
   "cell_type": "code",
   "execution_count": 128,
   "outputs": [],
   "source": [
    "df = df.dropna().resample('D').interpolate()"
   ],
   "metadata": {
    "collapsed": false
   }
  },
  {
   "cell_type": "code",
   "execution_count": 129,
   "outputs": [],
   "source": [
    "df['energy'] = df['tot_power'] * 24"
   ],
   "metadata": {
    "collapsed": false
   }
  },
  {
   "cell_type": "code",
   "execution_count": 137,
   "outputs": [
    {
     "data": {
      "text/plain": "<AxesSubplot:>"
     },
     "execution_count": 137,
     "metadata": {},
     "output_type": "execute_result"
    },
    {
     "data": {
      "text/plain": "<Figure size 432x288 with 2 Axes>",
      "image/png": "[encoded data removed]"
     },
     "metadata": {
      "needs_background": "light"
     },
     "output_type": "display_data"
    }
   ],
   "source": [
    "import matplotlib.pyplot as plt\n",
    "\n",
    "fig, ax = plt.subplots()\n",
    "\n",
    "df[['PUE']].plot(ax=ax)\n",
    "df[['power']].plot(ax=ax,secondary_y=True)"
   ],
   "metadata": {
    "collapsed": false
   }
  },
  {
   "cell_type": "code",
   "execution_count": 139,
   "outputs": [
    {
     "data": {
      "text/plain": "13256974.583646948"
     },
     "execution_count": 139,
     "metadata": {},
     "output_type": "execute_result"
    }
   ],
   "source": [
    "df['energy']['2021-01-01':'2022-12-31'].sum()"
   ],
   "metadata": {
    "collapsed": false
   }
  },
  {
   "cell_type": "code",
   "execution_count": 140,
   "outputs": [
    {
     "data": {
      "text/plain": "datetime\n2022-11-16    38720.118254\n2022-11-17    38617.879198\n2022-11-18    38515.640143\n2022-11-19    38413.401087\n2022-11-20    38311.162031\nFreq: D, Name: energy, dtype: float64"
     },
     "execution_count": 140,
     "metadata": {},
     "output_type": "execute_result"
    }
   ],
   "source": [
    "df['energy'].tail()"
   ],
   "metadata": {
    "collapsed": false
   }
  },
  {
   "cell_type": "code",
   "execution_count": null,
   "outputs": [],
   "source": [],
   "metadata": {
    "collapsed": false
   }
  }
 ],
 "metadata": {
  "kernelspec": {
   "display_name": "Python 3",
   "language": "python",
   "name": "python3"
  },
  "language_info": {
   "codemirror_mode": {
    "name": "ipython",
    "version": 2
   },
   "file_extension": ".py",
   "mimetype": "text/x-python",
   "name": "python",
   "nbconvert_exporter": "python",
   "pygments_lexer": "ipython2",
   "version": "2.7.6"
  }
 },
 "nbformat": 4,
 "nbformat_minor": 0
}
