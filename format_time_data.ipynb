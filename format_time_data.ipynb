{
 "cells": [
  {
   "cell_type": "code",
   "execution_count": 1,
   "metadata": {
    "pycharm": {
     "name": "#%%\n"
    }
   },
   "outputs": [],
   "source": [
    "data_path = ''"
   ]
  },
  {
   "cell_type": "code",
   "execution_count": 2,
   "metadata": {
    "pycharm": {
     "name": "#%%\n"
    }
   },
   "outputs": [],
   "source": [
    "file = f'{data_path}viewing_times.xlsx'"
   ]
  },
  {
   "cell_type": "code",
   "execution_count": 3,
   "metadata": {
    "pycharm": {
     "name": "#%%\n"
    }
   },
   "outputs": [],
   "source": [
    "import pandas as pd"
   ]
  },
  {
   "cell_type": "code",
   "execution_count": 4,
   "metadata": {
    "pycharm": {
     "name": "#%%\n"
    }
   },
   "outputs": [],
   "source": [
    "df = pd.read_excel(file, sheet_name='raw data', names=['time','views'])"
   ]
  },
  {
   "cell_type": "code",
   "execution_count": 5,
   "metadata": {
    "pycharm": {
     "name": "#%%\n"
    }
   },
   "outputs": [
    {
     "data": {
      "text/html": [
       "<div>\n",
       "<style scoped>\n",
       "    .dataframe tbody tr th:only-of-type {\n",
       "        vertical-align: middle;\n",
       "    }\n",
       "\n",
       "    .dataframe tbody tr th {\n",
       "        vertical-align: top;\n",
       "    }\n",
       "\n",
       "    .dataframe thead th {\n",
       "        text-align: right;\n",
       "    }\n",
       "</style>\n",
       "<table border=\"1\" class=\"dataframe\">\n",
       "  <thead>\n",
       "    <tr style=\"text-align: right;\">\n",
       "      <th></th>\n",
       "      <th>time</th>\n",
       "      <th>views</th>\n",
       "    </tr>\n",
       "  </thead>\n",
       "  <tbody>\n",
       "    <tr>\n",
       "      <th>0</th>\n",
       "      <td>0.0</td>\n",
       "      <td>1.666771</td>\n",
       "    </tr>\n",
       "  </tbody>\n",
       "</table>\n",
       "</div>"
      ],
      "text/plain": [
       "   time     views\n",
       "0   0.0  1.666771"
      ]
     },
     "execution_count": 5,
     "metadata": {},
     "output_type": "execute_result"
    }
   ],
   "source": [
    "df.head(1)"
   ]
  },
  {
   "cell_type": "code",
   "execution_count": 6,
   "metadata": {
    "pycharm": {
     "name": "#%%\n"
    }
   },
   "outputs": [],
   "source": [
    "#Change fraction of hour to datetime\n",
    "import datetime\n",
    "from dateutil.relativedelta import relativedelta\n",
    "from pandas.tseries.offsets import MonthEnd\n",
    "def date_for_frac(frac):\n",
    "    fill_date = '1/1/2019'\n",
    "    #Hours\n",
    "    remainder = frac % 1\n",
    "    hours = frac - remainder \n",
    "    #Minutes\n",
    "    frac = remainder * 60 \n",
    "    remainder = frac % 1\n",
    "    minutes = frac - remainder \n",
    "    #Seconds\n",
    "    frac = remainder * 60 \n",
    "    remainder = frac % 1\n",
    "    seconds = frac - remainder\n",
    "    \n",
    "    time = str(int(hours))+\":\"+str(int(minutes))+\":\"+str(int(seconds))\n",
    "    \n",
    "    dt = datetime.datetime.strptime(fill_date+' '+time,'%d/%m/%Y %H:%M:%S')\n",
    "    return dt"
   ]
  },
  {
   "cell_type": "code",
   "execution_count": 7,
   "metadata": {
    "pycharm": {
     "name": "#%%\n"
    }
   },
   "outputs": [
    {
     "data": {
      "text/plain": [
       "datetime.datetime(2019, 1, 1, 1, 7, 30)"
      ]
     },
     "execution_count": 7,
     "metadata": {},
     "output_type": "execute_result"
    }
   ],
   "source": [
    "date_for_frac(1.125)"
   ]
  },
  {
   "cell_type": "code",
   "execution_count": 8,
   "metadata": {
    "pycharm": {
     "name": "#%%\n"
    }
   },
   "outputs": [],
   "source": [
    "df['datetime'] = df['time'].apply(date_for_frac)"
   ]
  },
  {
   "cell_type": "code",
   "execution_count": 9,
   "metadata": {
    "pycharm": {
     "name": "#%%\n"
    }
   },
   "outputs": [
    {
     "data": {
      "text/plain": [
       "Text(0.5, 0, 'Time')"
      ]
     },
     "execution_count": 9,
     "metadata": {},
     "output_type": "execute_result"
    },
    {
     "data": {
      "image/png": "[encoded data removed]",
      "text/plain": [
       "<Figure size 432x288 with 1 Axes>"
      ]
     },
     "metadata": {
      "needs_background": "light"
     },
     "output_type": "display_data"
    }
   ],
   "source": [
    "ax = df.plot(x=\"datetime\", y=\"views\", legend=False)\n",
    "ax.set_ylim(0,9)\n",
    "ax.set_ylabel(\"Views [Million]\")\n",
    "ax.set_xlabel(\"Time\")"
   ]
  },
  {
   "cell_type": "code",
   "execution_count": 10,
   "metadata": {
    "pycharm": {
     "name": "#%%\n"
    }
   },
   "outputs": [
    {
     "data": {
      "text/plain": [
       "count    35.000000\n",
       "mean      4.056746\n",
       "std       2.512828\n",
       "min       0.614151\n",
       "25%       2.366345\n",
       "50%       3.758425\n",
       "75%       5.475730\n",
       "max       8.296957\n",
       "Name: views, dtype: float64"
      ]
     },
     "execution_count": 10,
     "metadata": {},
     "output_type": "execute_result"
    }
   ],
   "source": [
    "df['views'].describe()"
   ]
  },
  {
   "cell_type": "code",
   "execution_count": 11,
   "metadata": {
    "pycharm": {
     "name": "#%%\n"
    }
   },
   "outputs": [],
   "source": [
    "fig = ax.get_figure()\n",
    "fig.savefig('daily_views.pdf')"
   ]
  },
  {
   "cell_type": "code",
   "execution_count": 12,
   "metadata": {
    "pycharm": {
     "name": "#%%\n"
    }
   },
   "outputs": [
    {
     "data": {
      "text/html": [
       "<div>\n",
       "<style scoped>\n",
       "    .dataframe tbody tr th:only-of-type {\n",
       "        vertical-align: middle;\n",
       "    }\n",
       "\n",
       "    .dataframe tbody tr th {\n",
       "        vertical-align: top;\n",
       "    }\n",
       "\n",
       "    .dataframe thead th {\n",
       "        text-align: right;\n",
       "    }\n",
       "</style>\n",
       "<table border=\"1\" class=\"dataframe\">\n",
       "  <thead>\n",
       "    <tr style=\"text-align: right;\">\n",
       "      <th></th>\n",
       "      <th>views</th>\n",
       "    </tr>\n",
       "    <tr>\n",
       "      <th>datetime</th>\n",
       "      <th></th>\n",
       "    </tr>\n",
       "  </thead>\n",
       "  <tbody>\n",
       "    <tr>\n",
       "      <th>2019-01-01 00:00:00</th>\n",
       "      <td>1.666771</td>\n",
       "    </tr>\n",
       "    <tr>\n",
       "      <th>2019-01-01 00:27:52</th>\n",
       "      <td>2.359668</td>\n",
       "    </tr>\n",
       "    <tr>\n",
       "      <th>2019-01-01 01:01:06</th>\n",
       "      <td>3.183851</td>\n",
       "    </tr>\n",
       "    <tr>\n",
       "      <th>2019-01-01 01:26:37</th>\n",
       "      <td>3.550330</td>\n",
       "    </tr>\n",
       "    <tr>\n",
       "      <th>2019-01-01 01:59:43</th>\n",
       "      <td>3.818464</td>\n",
       "    </tr>\n",
       "    <tr>\n",
       "      <th>2019-01-01 02:24:45</th>\n",
       "      <td>3.952199</td>\n",
       "    </tr>\n",
       "    <tr>\n",
       "      <th>2019-01-01 02:59:46</th>\n",
       "      <td>3.952199</td>\n",
       "    </tr>\n",
       "    <tr>\n",
       "      <th>2019-01-01 03:18:27</th>\n",
       "      <td>3.952199</td>\n",
       "    </tr>\n",
       "    <tr>\n",
       "      <th>2019-01-01 03:42:35</th>\n",
       "      <td>3.758425</td>\n",
       "    </tr>\n",
       "    <tr>\n",
       "      <th>2019-01-01 04:14:04</th>\n",
       "      <td>3.541404</td>\n",
       "    </tr>\n",
       "    <tr>\n",
       "      <th>2019-01-01 05:06:07</th>\n",
       "      <td>3.364205</td>\n",
       "    </tr>\n",
       "    <tr>\n",
       "      <th>2019-01-01 06:08:46</th>\n",
       "      <td>3.510198</td>\n",
       "    </tr>\n",
       "    <tr>\n",
       "      <th>2019-01-01 06:58:19</th>\n",
       "      <td>3.811795</td>\n",
       "    </tr>\n",
       "    <tr>\n",
       "      <th>2019-01-01 07:20:25</th>\n",
       "      <td>3.970079</td>\n",
       "    </tr>\n",
       "    <tr>\n",
       "      <th>2019-01-01 08:06:24</th>\n",
       "      <td>3.701168</td>\n",
       "    </tr>\n",
       "    <tr>\n",
       "      <th>2019-01-01 08:52:01</th>\n",
       "      <td>3.701168</td>\n",
       "    </tr>\n",
       "    <tr>\n",
       "      <th>2019-01-01 09:36:59</th>\n",
       "      <td>4.188552</td>\n",
       "    </tr>\n",
       "    <tr>\n",
       "      <th>2019-01-01 12:20:58</th>\n",
       "      <td>6.741472</td>\n",
       "    </tr>\n",
       "    <tr>\n",
       "      <th>2019-01-01 13:29:32</th>\n",
       "      <td>7.406387</td>\n",
       "    </tr>\n",
       "    <tr>\n",
       "      <th>2019-01-01 14:28:32</th>\n",
       "      <td>8.048864</td>\n",
       "    </tr>\n",
       "    <tr>\n",
       "      <th>2019-01-01 15:04:50</th>\n",
       "      <td>8.048864</td>\n",
       "    </tr>\n",
       "    <tr>\n",
       "      <th>2019-01-01 15:35:57</th>\n",
       "      <td>7.852655</td>\n",
       "    </tr>\n",
       "    <tr>\n",
       "      <th>2019-01-01 16:10:27</th>\n",
       "      <td>8.154743</td>\n",
       "    </tr>\n",
       "    <tr>\n",
       "      <th>2019-01-01 16:30:31</th>\n",
       "      <td>8.296957</td>\n",
       "    </tr>\n",
       "    <tr>\n",
       "      <th>2019-01-01 16:44:11</th>\n",
       "      <td>8.120592</td>\n",
       "    </tr>\n",
       "    <tr>\n",
       "      <th>2019-01-01 17:07:43</th>\n",
       "      <td>7.168597</td>\n",
       "    </tr>\n",
       "    <tr>\n",
       "      <th>2019-01-01 18:06:05</th>\n",
       "      <td>4.209987</td>\n",
       "    </tr>\n",
       "    <tr>\n",
       "      <th>2019-01-01 18:54:58</th>\n",
       "      <td>2.373021</td>\n",
       "    </tr>\n",
       "    <tr>\n",
       "      <th>2019-01-01 19:48:56</th>\n",
       "      <td>1.481769</td>\n",
       "    </tr>\n",
       "    <tr>\n",
       "      <th>2019-01-01 20:54:55</th>\n",
       "      <td>0.868946</td>\n",
       "    </tr>\n",
       "    <tr>\n",
       "      <th>2019-01-01 22:06:29</th>\n",
       "      <td>0.614151</td>\n",
       "    </tr>\n",
       "    <tr>\n",
       "      <th>2019-01-01 22:17:58</th>\n",
       "      <td>0.614151</td>\n",
       "    </tr>\n",
       "    <tr>\n",
       "      <th>2019-01-01 22:51:38</th>\n",
       "      <td>0.614151</td>\n",
       "    </tr>\n",
       "    <tr>\n",
       "      <th>2019-01-01 23:26:02</th>\n",
       "      <td>0.614151</td>\n",
       "    </tr>\n",
       "    <tr>\n",
       "      <th>2019-01-01 23:59:58</th>\n",
       "      <td>0.773959</td>\n",
       "    </tr>\n",
       "  </tbody>\n",
       "</table>\n",
       "</div>"
      ],
      "text/plain": [
       "                        views\n",
       "datetime                     \n",
       "2019-01-01 00:00:00  1.666771\n",
       "2019-01-01 00:27:52  2.359668\n",
       "2019-01-01 01:01:06  3.183851\n",
       "2019-01-01 01:26:37  3.550330\n",
       "2019-01-01 01:59:43  3.818464\n",
       "2019-01-01 02:24:45  3.952199\n",
       "2019-01-01 02:59:46  3.952199\n",
       "2019-01-01 03:18:27  3.952199\n",
       "2019-01-01 03:42:35  3.758425\n",
       "2019-01-01 04:14:04  3.541404\n",
       "2019-01-01 05:06:07  3.364205\n",
       "2019-01-01 06:08:46  3.510198\n",
       "2019-01-01 06:58:19  3.811795\n",
       "2019-01-01 07:20:25  3.970079\n",
       "2019-01-01 08:06:24  3.701168\n",
       "2019-01-01 08:52:01  3.701168\n",
       "2019-01-01 09:36:59  4.188552\n",
       "2019-01-01 12:20:58  6.741472\n",
       "2019-01-01 13:29:32  7.406387\n",
       "2019-01-01 14:28:32  8.048864\n",
       "2019-01-01 15:04:50  8.048864\n",
       "2019-01-01 15:35:57  7.852655\n",
       "2019-01-01 16:10:27  8.154743\n",
       "2019-01-01 16:30:31  8.296957\n",
       "2019-01-01 16:44:11  8.120592\n",
       "2019-01-01 17:07:43  7.168597\n",
       "2019-01-01 18:06:05  4.209987\n",
       "2019-01-01 18:54:58  2.373021\n",
       "2019-01-01 19:48:56  1.481769\n",
       "2019-01-01 20:54:55  0.868946\n",
       "2019-01-01 22:06:29  0.614151\n",
       "2019-01-01 22:17:58  0.614151\n",
       "2019-01-01 22:51:38  0.614151\n",
       "2019-01-01 23:26:02  0.614151\n",
       "2019-01-01 23:59:58  0.773959"
      ]
     },
     "execution_count": 12,
     "metadata": {},
     "output_type": "execute_result"
    }
   ],
   "source": [
    "df_views = df.set_index('datetime')\n",
    "df_views.drop(columns='time')"
   ]
  },
  {
   "cell_type": "code",
   "execution_count": 13,
   "metadata": {
    "pycharm": {
     "name": "#%%\n"
    }
   },
   "outputs": [],
   "source": [
    "df_views = df_views[~df_views.index.duplicated(keep='first')]['views']"
   ]
  },
  {
   "cell_type": "code",
   "execution_count": 14,
   "metadata": {
    "scrolled": true
   },
   "outputs": [],
   "source": [
    "#resamples to each hour\n",
    "df_views = pd.DataFrame(df_views.resample('60min').mean().interpolate())"
   ]
  },
  {
   "cell_type": "code",
   "execution_count": 15,
   "metadata": {},
   "outputs": [],
   "source": [
    "index = [\"t_00\",\"t_01\",\"t_02\",\"t_03\",\"t_04\",\"t_05\",\"t_06\",\"t_07\",\"t_08\",\"t_09\",\"t_10\",\"t_11\",\"t_12\",\"t_13\",\"t_14\",\"t_15\",\"t_16\",\"t_17\",\"t_18\",\"t_19\",\"t_20\",\"t_21\",\"t_22\",\"t_23\"]\n",
    "df_views.insert(0,\"group\",index, True)"
   ]
  },
  {
   "cell_type": "code",
   "execution_count": 16,
   "metadata": {},
   "outputs": [
    {
     "data": {
      "text/plain": [
       "Text(0.5, 0, 'Time')"
      ]
     },
     "execution_count": 16,
     "metadata": {},
     "output_type": "execute_result"
    },
    {
     "data": {
      "image/png": "[encoded data removed]",
      "text/plain": [
       "<Figure size 432x288 with 1 Axes>"
      ]
     },
     "metadata": {
      "needs_background": "light"
     },
     "output_type": "display_data"
    }
   ],
   "source": [
    "ax = df_views.plot(x=\"group\", y=\"views\", legend=False)\n",
    "ax.set_ylim(0,9)\n",
    "ax.set_ylabel(\"Views [Million]\")\n",
    "ax.set_xlabel(\"Time\")"
   ]
  },
  {
   "cell_type": "code",
   "execution_count": 17,
   "metadata": {},
   "outputs": [],
   "source": [
    "df_views = df_views.set_index(\"group\")"
   ]
  },
  {
   "cell_type": "code",
   "execution_count": 18,
   "metadata": {},
   "outputs": [
    {
     "data": {
      "text/html": [
       "<div>\n",
       "<style scoped>\n",
       "    .dataframe tbody tr th:only-of-type {\n",
       "        vertical-align: middle;\n",
       "    }\n",
       "\n",
       "    .dataframe tbody tr th {\n",
       "        vertical-align: top;\n",
       "    }\n",
       "\n",
       "    .dataframe thead th {\n",
       "        text-align: right;\n",
       "    }\n",
       "</style>\n",
       "<table border=\"1\" class=\"dataframe\">\n",
       "  <thead>\n",
       "    <tr style=\"text-align: right;\">\n",
       "      <th></th>\n",
       "      <th>views</th>\n",
       "    </tr>\n",
       "    <tr>\n",
       "      <th>group</th>\n",
       "      <th></th>\n",
       "    </tr>\n",
       "  </thead>\n",
       "  <tbody>\n",
       "    <tr>\n",
       "      <th>t_00</th>\n",
       "      <td>2.013220</td>\n",
       "    </tr>\n",
       "    <tr>\n",
       "      <th>t_01</th>\n",
       "      <td>3.517548</td>\n",
       "    </tr>\n",
       "    <tr>\n",
       "      <th>t_02</th>\n",
       "      <td>3.952199</td>\n",
       "    </tr>\n",
       "    <tr>\n",
       "      <th>t_03</th>\n",
       "      <td>3.855312</td>\n",
       "    </tr>\n",
       "    <tr>\n",
       "      <th>t_04</th>\n",
       "      <td>3.541404</td>\n",
       "    </tr>\n",
       "    <tr>\n",
       "      <th>t_05</th>\n",
       "      <td>3.364205</td>\n",
       "    </tr>\n",
       "    <tr>\n",
       "      <th>t_06</th>\n",
       "      <td>3.660996</td>\n",
       "    </tr>\n",
       "    <tr>\n",
       "      <th>t_07</th>\n",
       "      <td>3.970079</td>\n",
       "    </tr>\n",
       "    <tr>\n",
       "      <th>t_08</th>\n",
       "      <td>3.701168</td>\n",
       "    </tr>\n",
       "    <tr>\n",
       "      <th>t_09</th>\n",
       "      <td>4.188552</td>\n",
       "    </tr>\n",
       "    <tr>\n",
       "      <th>t_10</th>\n",
       "      <td>5.039525</td>\n",
       "    </tr>\n",
       "    <tr>\n",
       "      <th>t_11</th>\n",
       "      <td>5.890499</td>\n",
       "    </tr>\n",
       "    <tr>\n",
       "      <th>t_12</th>\n",
       "      <td>6.741472</td>\n",
       "    </tr>\n",
       "    <tr>\n",
       "      <th>t_13</th>\n",
       "      <td>7.406387</td>\n",
       "    </tr>\n",
       "    <tr>\n",
       "      <th>t_14</th>\n",
       "      <td>8.048864</td>\n",
       "    </tr>\n",
       "    <tr>\n",
       "      <th>t_15</th>\n",
       "      <td>7.950760</td>\n",
       "    </tr>\n",
       "    <tr>\n",
       "      <th>t_16</th>\n",
       "      <td>8.190764</td>\n",
       "    </tr>\n",
       "    <tr>\n",
       "      <th>t_17</th>\n",
       "      <td>7.168597</td>\n",
       "    </tr>\n",
       "    <tr>\n",
       "      <th>t_18</th>\n",
       "      <td>3.291504</td>\n",
       "    </tr>\n",
       "    <tr>\n",
       "      <th>t_19</th>\n",
       "      <td>1.481769</td>\n",
       "    </tr>\n",
       "    <tr>\n",
       "      <th>t_20</th>\n",
       "      <td>0.868946</td>\n",
       "    </tr>\n",
       "    <tr>\n",
       "      <th>t_21</th>\n",
       "      <td>0.741549</td>\n",
       "    </tr>\n",
       "    <tr>\n",
       "      <th>t_22</th>\n",
       "      <td>0.614151</td>\n",
       "    </tr>\n",
       "    <tr>\n",
       "      <th>t_23</th>\n",
       "      <td>0.694055</td>\n",
       "    </tr>\n",
       "  </tbody>\n",
       "</table>\n",
       "</div>"
      ],
      "text/plain": [
       "          views\n",
       "group          \n",
       "t_00   2.013220\n",
       "t_01   3.517548\n",
       "t_02   3.952199\n",
       "t_03   3.855312\n",
       "t_04   3.541404\n",
       "t_05   3.364205\n",
       "t_06   3.660996\n",
       "t_07   3.970079\n",
       "t_08   3.701168\n",
       "t_09   4.188552\n",
       "t_10   5.039525\n",
       "t_11   5.890499\n",
       "t_12   6.741472\n",
       "t_13   7.406387\n",
       "t_14   8.048864\n",
       "t_15   7.950760\n",
       "t_16   8.190764\n",
       "t_17   7.168597\n",
       "t_18   3.291504\n",
       "t_19   1.481769\n",
       "t_20   0.868946\n",
       "t_21   0.741549\n",
       "t_22   0.614151\n",
       "t_23   0.694055"
      ]
     },
     "execution_count": 18,
     "metadata": {},
     "output_type": "execute_result"
    }
   ],
   "source": [
    "df_views"
   ]
  },
  {
   "cell_type": "code",
   "execution_count": 19,
   "metadata": {},
   "outputs": [],
   "source": [
    "df_views.to_csv('formatted_views.csv')"
   ]
  }
 ],
 "metadata": {
  "kernelspec": {
   "display_name": "Python 3 (ipykernel)",
   "language": "python",
   "name": "python3"
  },
  "language_info": {
   "codemirror_mode": {
    "name": "ipython",
    "version": 3
   },
   "file_extension": ".py",
   "mimetype": "text/x-python",
   "name": "python",
   "nbconvert_exporter": "python",
   "pygments_lexer": "ipython3",
   "version": "3.9.7"
  }
 },
 "nbformat": 4,
 "nbformat_minor": 1
}